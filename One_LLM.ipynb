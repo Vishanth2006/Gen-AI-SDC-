{
  "nbformat": 4,
  "nbformat_minor": 0,
  "metadata": {
    "colab": {
      "provenance": [],
      "authorship_tag": "ABX9TyM/FJsQTqqFssySOq2T6EZq",
      "include_colab_link": true
    },
    "kernelspec": {
      "name": "python3",
      "display_name": "Python 3"
    },
    "language_info": {
      "name": "python"
    }
  },
  "cells": [
    {
      "cell_type": "markdown",
      "metadata": {
        "id": "view-in-github",
        "colab_type": "text"
      },
      "source": [
        "<a href=\"https://colab.research.google.com/github/Vishanth2006/Gen-AI-SDC-/blob/main/One_LLM.ipynb\" target=\"_parent\"><img src=\"https://colab.research.google.com/assets/colab-badge.svg\" alt=\"Open In Colab\"/></a>"
      ]
    },
    {
      "cell_type": "code",
      "execution_count": null,
      "metadata": {
        "id": "4dV8exD9lsmy"
      },
      "outputs": [],
      "source": [
        "# Install necessary libraries\n",
        "!pip install langchain openai duckduckgo-search\n",
        "\n",
        "# Importing required modules\n",
        "from langchain.chains import SequentialChain\n",
        "from langchain.prompts import PromptTemplate\n",
        "from langchain.tools.duckduckgo_search.tool import DuckDuckGoSearchTool\n",
        "from langchain.llms import OpenAI\n",
        "\n",
        "# Initialize the LLM (OpenAI)\n",
        "llm = OpenAI(model=\"text-davinci-003\", temperature=0.7, max_tokens=150)\n",
        "\n",
        "# Initialize the Search Tool\n",
        "search_tool = DuckDuckGoSearchTool()\n",
        "\n",
        "# Define a search and summarize function\n",
        "def search_and_summarize(query):\n",
        "    # Step 1: Perform a web search\n",
        "    search_results = search_tool.run(query)\n",
        "    print(\"Search Results:\", search_results)\n",
        "\n",
        "    # Step 2: Summarize the search results\n",
        "    prompt = PromptTemplate(input_variables=[\"search_results\"],\n",
        "                            template=\"Summarize the following search results into a concise paragraph:\\n\\n{search_results}\")\n",
        "    result = llm.run(prompt.format(search_results=search_results))\n",
        "    return result\n",
        "\n",
        "# Example query\n",
        "query = \"Impacts of Artificial Intelligence on Healthcare\"\n",
        "\n",
        "# Perform the process\n",
        "summary = search_and_summarize(query)\n",
        "print(\"Summary of Search Results:\")\n",
        "print(summary)\n"
      ]
    }
  ]
}