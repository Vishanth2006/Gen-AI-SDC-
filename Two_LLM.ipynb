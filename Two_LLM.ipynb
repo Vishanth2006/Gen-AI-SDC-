{
  "nbformat": 4,
  "nbformat_minor": 0,
  "metadata": {
    "colab": {
      "provenance": [],
      "authorship_tag": "ABX9TyNNeBzGZtOLllTvuDXDhRi+",
      "include_colab_link": true
    },
    "kernelspec": {
      "name": "python3",
      "display_name": "Python 3"
    },
    "language_info": {
      "name": "python"
    }
  },
  "cells": [
    {
      "cell_type": "markdown",
      "metadata": {
        "id": "view-in-github",
        "colab_type": "text"
      },
      "source": [
        "<a href=\"https://colab.research.google.com/github/Vishanth2006/Gen-AI-SDC-/blob/main/Two_LLM.ipynb\" target=\"_parent\"><img src=\"https://colab.research.google.com/assets/colab-badge.svg\" alt=\"Open In Colab\"/></a>"
      ]
    },
    {
      "cell_type": "code",
      "execution_count": null,
      "metadata": {
        "id": "VoB3WZO6lttw"
      },
      "outputs": [],
      "source": [
        "# Install necessary libraries\n",
        "!pip install langchain openai\n",
        "\n",
        "# Importing required modules\n",
        "from langchain.chains import SimpleSequentialChain\n",
        "from langchain.llms import OpenAI\n",
        "from langchain.prompts import PromptTemplate\n",
        "\n",
        "# Initialize the first LLM\n",
        "llm1 = OpenAI(model=\"text-davinci-003\", temperature=0.7, max_tokens=150)\n",
        "prompt1 = PromptTemplate(input_variables=[\"input_text\"], template=\"Analyze the following text:\\n\\n{input_text}\")\n",
        "chain1 = SimpleSequentialChain(llm=llm1, prompt=prompt1)\n",
        "\n",
        "# Initialize the second LLM\n",
        "llm2 = OpenAI(model=\"text-davinci-003\", temperature=0.3, max_tokens=150)\n",
        "prompt2 = PromptTemplate(input_variables=[\"intermediate_text\"], template=\"Summarize the analysis:\\n\\n{intermediate_text}\")\n",
        "chain2 = SimpleSequentialChain(llm=llm2, prompt=prompt2)\n",
        "\n",
        "# Chain the two LLMs\n",
        "def analyze_and_summarize(text):\n",
        "    intermediate_result = chain1.run({\"input_text\": text})\n",
        "    final_summary = chain2.run({\"intermediate_text\": intermediate_result})\n",
        "    return final_summary\n",
        "\n",
        "# Example text for processing\n",
        "input_text = \"\"\"\n",
        "Artificial Intelligence has revolutionized industries by enhancing efficiencies\n",
        "and decision-making through advanced algorithms, neural networks, and data processing.\n",
        "The applications range from autonomous vehicles to healthcare diagnostics and financial systems.\n",
        "\"\"\"\n",
        "\n",
        "# Perform analysis and summarization\n",
        "result = analyze_and_summarize(input_text)\n",
        "print(\"Result:\")\n",
        "print(result)\n"
      ]
    }
  ]
}